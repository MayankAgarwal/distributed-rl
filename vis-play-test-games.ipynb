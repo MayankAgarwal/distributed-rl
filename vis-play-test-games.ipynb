{
 "cells": [
  {
   "cell_type": "code",
   "execution_count": 1,
   "metadata": {},
   "outputs": [],
   "source": [
    "import torch\n",
    "from torch.autograd import Variable"
   ]
  },
  {
   "cell_type": "code",
   "execution_count": 2,
   "metadata": {},
   "outputs": [],
   "source": [
    "import numpy as np\n",
    "import random\n",
    "import os\n",
    "import matplotlib.pyplot as plt\n",
    "import imageio\n",
    "%matplotlib inline"
   ]
  },
  {
   "cell_type": "code",
   "execution_count": 3,
   "metadata": {},
   "outputs": [],
   "source": [
    "from modules.dqn import DQN\n",
    "from modules.dueling_dqn import DuelingDQN\n",
    "from modules.categoricaldqn import CategoricalDQN\n",
    "from modules.env import Env\n",
    "\n",
    "%load_ext autoreload\n",
    "%autoreload 2"
   ]
  },
  {
   "cell_type": "code",
   "execution_count": 4,
   "metadata": {},
   "outputs": [
    {
     "name": "stdout",
     "output_type": "stream",
     "text": [
      "PyTorch version:  0.4.0a0+ed64001\n"
     ]
    }
   ],
   "source": [
    "print \"PyTorch version: \", torch.__version__"
   ]
  },
  {
   "cell_type": "code",
   "execution_count": 5,
   "metadata": {},
   "outputs": [],
   "source": [
    "use_cuda = torch.cuda.is_available()\n",
    "FloatTensor = torch.cuda.FloatTensor if use_cuda else torch.FloatTensor\n",
    "LongTensor = torch.cuda.LongTensor if use_cuda else torch.LongTensor\n",
    "ByteTensor = torch.cuda.ByteTensor if use_cuda else torch.ByteTensor\n",
    "Tensor = FloatTensor\n",
    "\n",
    "# Refer https://discuss.pytorch.org/t/what-does-torch-backends-cudnn-benchmark-do/5936/3\n",
    "# Since the input is fixed size, this flag could be set to True on GPU for faster performance.\n",
    "torch.backends.cudnn.benchmark = use_cuda"
   ]
  },
  {
   "cell_type": "code",
   "execution_count": 6,
   "metadata": {},
   "outputs": [],
   "source": [
    "MODEL_TYPE = sys.argv[1]\n",
    "MODELS_PATH = sys.argv[2] #'results/dqn-breakout'\n",
    "GAME_ROM = 'roms/breakout.bin'\n",
    "PER_MODEL_PLAYS = 2\n",
    "\n",
    "BATCH_SIZE = 32\n",
    "AGENT_HISTORY_LENGTH = 4\n",
    "ACTION_REPEAT = 4\n",
    "IMG_RESCALE_SIZE = (84, 84)\n",
    "EPS = 0.05\n",
    "NOOP_RANGE = (0, 0)\n",
    "N_atoms = 51\n",
    "\n",
    "RESULTS_FOLDER = sys.argv[3] #'results/[T] dqn_play/'"
   ]
  },
  {
   "cell_type": "code",
   "execution_count": 7,
   "metadata": {},
   "outputs": [],
   "source": [
    "try:\n",
    "    os.makedirs(RESULTS_FOLDER)\n",
    "except Exception as _:\n",
    "    pass"
   ]
  },
  {
   "cell_type": "code",
   "execution_count": 8,
   "metadata": {},
   "outputs": [],
   "source": [
    "ENV = Env(\n",
    "    os.path.abspath(GAME_ROM), IMG_RESCALE_SIZE, NOOP_RANGE, FloatTensor, AGENT_HISTORY_LENGTH, ACTION_REPEAT)\n",
    "\n",
    "ACTIONS = ENV.action_set\n",
    "ACTION_CNT = len(ACTIONS)\n",
    "\n",
    "if MODEL_TYPE == 'dqn':\n",
    "    DQN = DQN(AGENT_HISTORY_LENGTH, ACTION_CNT)\n",
    "elif MODEL_TYPE == 'ddqn':\n",
    "    DQN = DQN(AGENT_HISTORY_LENGTH, ACTION_CNT)\n",
    "elif MODEL_TYPE == 'dueldqn':\n",
    "    DQN = DuelingDQN(AGENT_HISTORY_LENGTH, ACTION_CNT)\n",
    "elif MODEL_TYPE == 'cdqn':\n",
    "    DQN = CategoricalDQN(AGENT_HISTORY_LENGTH, N_atoms, ACTION_CNT)\n",
    "\n",
    "if use_cuda:\n",
    "    DQN.cuda()"
   ]
  },
  {
   "cell_type": "code",
   "execution_count": 9,
   "metadata": {},
   "outputs": [],
   "source": [
    "def get_model_list():\n",
    "    global MODELS_PATH\n",
    "    models = []\n",
    "    model_files = filter(lambda f: f.endswith('.pth'), os.listdir(MODELS_PATH))\n",
    "    \n",
    "    for i, f in enumerate(model_files):\n",
    "        iteration = int(f.split('-')[1].split('.')[0])\n",
    "        if i==0 or iteration%25000 == 0:\n",
    "            models.append((iteration, os.path.join(MODELS_PATH, f)))\n",
    "    models.sort(key=lambda x: x[0])\n",
    "    \n",
    "    return models\n",
    "\n",
    "def load_model(model_filepath):\n",
    "    global DQN\n",
    "    DQN.load_state_dict(torch.load(model_filepath, map_location=lambda storage, loc: storage))\n",
    "    DQN.eval()"
   ]
  },
  {
   "cell_type": "code",
   "execution_count": 10,
   "metadata": {},
   "outputs": [],
   "source": [
    "def select_action(state):\n",
    "    \n",
    "    global EPS, DQN\n",
    "    \n",
    "    result = None\n",
    "    rand = random.random()\n",
    "    \n",
    "    if rand < EPS:\n",
    "        result = random.randrange(0, ACTION_CNT)\n",
    "    else:\n",
    "        pred = DQN(Variable(state, volatile=True).type(FloatTensor)).data.max(1)\n",
    "        pred = pred[1].view(1, 1)\n",
    "        idx = int(pred[0].cpu().numpy())\n",
    "        result = idx\n",
    "        \n",
    "    return result"
   ]
  },
  {
   "cell_type": "code",
   "execution_count": 11,
   "metadata": {},
   "outputs": [],
   "source": [
    "def play_game(save_movie=False, movie_name=None):\n",
    "    total_reward = 0.0\n",
    "    done = False\n",
    "    movie_frames = []\n",
    "    ENV.reset_game()\n",
    "    \n",
    "    while not done:\n",
    "        state = ENV.get_state()\n",
    "        action_idx = select_action(state)\n",
    "        action = ACTIONS[action_idx]\n",
    "        \n",
    "        if save_movie:\n",
    "            movie_frames.append(np.copy(ENV.get_current_screen()))\n",
    "        \n",
    "        state, reward, done = ENV.take_action(action)\n",
    "        total_reward += reward\n",
    "    \n",
    "    if save_movie:\n",
    "        imageio.mimsave(os.path.join(RESULTS_FOLDER, movie_name + '.gif'), movie_frames)\n",
    "    \n",
    "    return total_reward"
   ]
  },
  {
   "cell_type": "code",
   "execution_count": 12,
   "metadata": {},
   "outputs": [
    {
     "name": "stdout",
     "output_type": "stream",
     "text": [
      "Iteration: 10000, Play: 0, Reward: 2.000000\n",
      "Iteration: 10000, Play: 1, Reward: 2.000000\n",
      "Iteration: 50000, Play: 0, Reward: 1.000000\n",
      "Iteration: 50000, Play: 1, Reward: 3.000000\n",
      "Iteration: 100000, Play: 0, Reward: 2.000000\n",
      "Iteration: 100000, Play: 1, Reward: 1.000000\n",
      "Iteration: 150000, Play: 0, Reward: 5.000000\n",
      "Iteration: 150000, Play: 1, Reward: 0.000000\n",
      "Iteration: 200000, Play: 0, Reward: 4.000000\n",
      "Iteration: 200000, Play: 1, Reward: 4.000000\n",
      "Iteration: 250000, Play: 0, Reward: 6.000000\n",
      "Iteration: 250000, Play: 1, Reward: 9.000000\n",
      "Iteration: 300000, Play: 0, Reward: 13.000000\n",
      "Iteration: 300000, Play: 1, Reward: 7.000000\n",
      "Iteration: 350000, Play: 0, Reward: 13.000000\n",
      "Iteration: 350000, Play: 1, Reward: 15.000000\n",
      "Iteration: 400000, Play: 0, Reward: 10.000000\n",
      "Iteration: 400000, Play: 1, Reward: 10.000000\n",
      "Iteration: 450000, Play: 0, Reward: 16.000000\n",
      "Iteration: 450000, Play: 1, Reward: 16.000000\n",
      "Iteration: 500000, Play: 0, Reward: 12.000000\n",
      "Iteration: 500000, Play: 1, Reward: 11.000000\n",
      "Iteration: 550000, Play: 0, Reward: 12.000000\n",
      "Iteration: 550000, Play: 1, Reward: 11.000000\n",
      "Iteration: 600000, Play: 0, Reward: 14.000000\n",
      "Iteration: 600000, Play: 1, Reward: 13.000000\n",
      "Iteration: 650000, Play: 0, Reward: 13.000000\n",
      "Iteration: 650000, Play: 1, Reward: 15.000000\n",
      "Iteration: 700000, Play: 0, Reward: 11.000000\n",
      "Iteration: 700000, Play: 1, Reward: 10.000000\n",
      "Iteration: 750000, Play: 0, Reward: 16.000000\n",
      "Iteration: 750000, Play: 1, Reward: 15.000000\n",
      "Iteration: 800000, Play: 0, Reward: 19.000000\n",
      "Iteration: 800000, Play: 1, Reward: 18.000000\n",
      "Iteration: 850000, Play: 0, Reward: 22.000000\n",
      "Iteration: 850000, Play: 1, Reward: 13.000000\n",
      "Iteration: 900000, Play: 0, Reward: 13.000000\n",
      "Iteration: 900000, Play: 1, Reward: 18.000000\n",
      "Iteration: 950000, Play: 0, Reward: 18.000000\n",
      "Iteration: 950000, Play: 1, Reward: 9.000000\n",
      "Iteration: 1000000, Play: 0, Reward: 19.000000\n",
      "Iteration: 1000000, Play: 1, Reward: 22.000000\n",
      "Iteration: 1050000, Play: 0, Reward: 14.000000\n",
      "Iteration: 1050000, Play: 1, Reward: 11.000000\n",
      "Iteration: 1100000, Play: 0, Reward: 14.000000\n",
      "Iteration: 1100000, Play: 1, Reward: 24.000000\n",
      "Iteration: 1150000, Play: 0, Reward: 14.000000\n",
      "Iteration: 1150000, Play: 1, Reward: 20.000000\n",
      "Iteration: 1200000, Play: 0, Reward: 21.000000\n",
      "Iteration: 1200000, Play: 1, Reward: 10.000000\n",
      "Iteration: 1250000, Play: 0, Reward: 20.000000\n",
      "Iteration: 1250000, Play: 1, Reward: 10.000000\n",
      "Iteration: 1300000, Play: 0, Reward: 18.000000\n",
      "Iteration: 1300000, Play: 1, Reward: 23.000000\n",
      "Iteration: 1350000, Play: 0, Reward: 22.000000\n",
      "Iteration: 1350000, Play: 1, Reward: 23.000000\n",
      "Iteration: 1400000, Play: 0, Reward: 28.000000\n",
      "Iteration: 1400000, Play: 1, Reward: 14.000000\n",
      "Iteration: 1450000, Play: 0, Reward: 22.000000\n",
      "Iteration: 1450000, Play: 1, Reward: 19.000000\n",
      "Iteration: 1500000, Play: 0, Reward: 28.000000\n"
     ]
    },
    {
     "ename": "KeyboardInterrupt",
     "evalue": "",
     "output_type": "error",
     "traceback": [
      "\u001b[0;31m---------------------------------------------------------------------------\u001b[0m",
      "\u001b[0;31mKeyboardInterrupt\u001b[0m                         Traceback (most recent call last)",
      "\u001b[0;32m<ipython-input-12-9426f7b9e1b0>\u001b[0m in \u001b[0;36m<module>\u001b[0;34m()\u001b[0m\n\u001b[1;32m     16\u001b[0m             \u001b[0mmovie_name\u001b[0m \u001b[0;34m=\u001b[0m \u001b[0mNone\u001b[0m\u001b[0;34m\u001b[0m\u001b[0m\n\u001b[1;32m     17\u001b[0m \u001b[0;34m\u001b[0m\u001b[0m\n\u001b[0;32m---> 18\u001b[0;31m         \u001b[0mgame_reward\u001b[0m \u001b[0;34m=\u001b[0m \u001b[0mplay_game\u001b[0m\u001b[0;34m(\u001b[0m\u001b[0msave_movie\u001b[0m\u001b[0;34m,\u001b[0m \u001b[0mmovie_name\u001b[0m\u001b[0;34m)\u001b[0m\u001b[0;34m\u001b[0m\u001b[0m\n\u001b[0m\u001b[1;32m     19\u001b[0m         \u001b[0mplay_rewards\u001b[0m\u001b[0;34m.\u001b[0m\u001b[0mappend\u001b[0m\u001b[0;34m(\u001b[0m\u001b[0mgame_reward\u001b[0m\u001b[0;34m)\u001b[0m\u001b[0;34m\u001b[0m\u001b[0m\n\u001b[1;32m     20\u001b[0m         \u001b[0;32mprint\u001b[0m \u001b[0;34m\"Iteration: %d, Play: %d, Reward: %f\"\u001b[0m \u001b[0;34m%\u001b[0m \u001b[0;34m(\u001b[0m\u001b[0miteration\u001b[0m\u001b[0;34m,\u001b[0m \u001b[0mplay\u001b[0m\u001b[0;34m,\u001b[0m \u001b[0mgame_reward\u001b[0m\u001b[0;34m)\u001b[0m\u001b[0;34m\u001b[0m\u001b[0m\n",
      "\u001b[0;32m<ipython-input-11-e5693c0fbc71>\u001b[0m in \u001b[0;36mplay_game\u001b[0;34m(save_movie, movie_name)\u001b[0m\n\u001b[1;32m     13\u001b[0m             \u001b[0mmovie_frames\u001b[0m\u001b[0;34m.\u001b[0m\u001b[0mappend\u001b[0m\u001b[0;34m(\u001b[0m\u001b[0mnp\u001b[0m\u001b[0;34m.\u001b[0m\u001b[0mcopy\u001b[0m\u001b[0;34m(\u001b[0m\u001b[0mENV\u001b[0m\u001b[0;34m.\u001b[0m\u001b[0mget_current_screen\u001b[0m\u001b[0;34m(\u001b[0m\u001b[0;34m)\u001b[0m\u001b[0;34m)\u001b[0m\u001b[0;34m)\u001b[0m\u001b[0;34m\u001b[0m\u001b[0m\n\u001b[1;32m     14\u001b[0m \u001b[0;34m\u001b[0m\u001b[0m\n\u001b[0;32m---> 15\u001b[0;31m         \u001b[0mstate\u001b[0m\u001b[0;34m,\u001b[0m \u001b[0mreward\u001b[0m\u001b[0;34m,\u001b[0m \u001b[0mdone\u001b[0m \u001b[0;34m=\u001b[0m \u001b[0mENV\u001b[0m\u001b[0;34m.\u001b[0m\u001b[0mtake_action\u001b[0m\u001b[0;34m(\u001b[0m\u001b[0maction\u001b[0m\u001b[0;34m)\u001b[0m\u001b[0;34m\u001b[0m\u001b[0m\n\u001b[0m\u001b[1;32m     16\u001b[0m         \u001b[0mtotal_reward\u001b[0m \u001b[0;34m+=\u001b[0m \u001b[0mreward\u001b[0m\u001b[0;34m\u001b[0m\u001b[0m\n\u001b[1;32m     17\u001b[0m \u001b[0;34m\u001b[0m\u001b[0m\n",
      "\u001b[0;32m/Users/Mayank/Google Drive/687 - RL/Project/code/modules/env.pyc\u001b[0m in \u001b[0;36mtake_action\u001b[0;34m(self, action)\u001b[0m\n\u001b[1;32m     73\u001b[0m         \u001b[0mself\u001b[0m\u001b[0;34m.\u001b[0m\u001b[0m__add_frame\u001b[0m\u001b[0;34m(\u001b[0m\u001b[0mscreen_img\u001b[0m\u001b[0;34m)\u001b[0m\u001b[0;34m\u001b[0m\u001b[0m\n\u001b[1;32m     74\u001b[0m \u001b[0;34m\u001b[0m\u001b[0m\n\u001b[0;32m---> 75\u001b[0;31m         \u001b[0;32mreturn\u001b[0m \u001b[0mself\u001b[0m\u001b[0;34m.\u001b[0m\u001b[0mget_state\u001b[0m\u001b[0;34m(\u001b[0m\u001b[0;34m)\u001b[0m\u001b[0;34m,\u001b[0m \u001b[0mtotal_reward\u001b[0m\u001b[0;34m,\u001b[0m \u001b[0mself\u001b[0m\u001b[0;34m.\u001b[0m\u001b[0m__isdone\u001b[0m\u001b[0;34m(\u001b[0m\u001b[0;34m)\u001b[0m\u001b[0;34m\u001b[0m\u001b[0m\n\u001b[0m\u001b[1;32m     76\u001b[0m \u001b[0;34m\u001b[0m\u001b[0m\n\u001b[1;32m     77\u001b[0m     \u001b[0;32mdef\u001b[0m \u001b[0mreset_game\u001b[0m\u001b[0;34m(\u001b[0m\u001b[0mself\u001b[0m\u001b[0;34m)\u001b[0m\u001b[0;34m:\u001b[0m\u001b[0;34m\u001b[0m\u001b[0m\n",
      "\u001b[0;32m/Users/Mayank/Google Drive/687 - RL/Project/code/modules/env.pyc\u001b[0m in \u001b[0;36mget_state\u001b[0;34m(self)\u001b[0m\n\u001b[1;32m     49\u001b[0m             \u001b[0;32mreturn\u001b[0m \u001b[0mNone\u001b[0m\u001b[0;34m\u001b[0m\u001b[0m\n\u001b[1;32m     50\u001b[0m \u001b[0;34m\u001b[0m\u001b[0m\n\u001b[0;32m---> 51\u001b[0;31m         \u001b[0mpreprocessed\u001b[0m \u001b[0;34m=\u001b[0m \u001b[0mself\u001b[0m\u001b[0;34m.\u001b[0m\u001b[0m_preprocessor\u001b[0m\u001b[0;34m.\u001b[0m\u001b[0mprocess_images\u001b[0m\u001b[0;34m(\u001b[0m\u001b[0mself\u001b[0m\u001b[0;34m.\u001b[0m\u001b[0m_frames_hist\u001b[0m\u001b[0;34m)\u001b[0m\u001b[0;34m\u001b[0m\u001b[0m\n\u001b[0m\u001b[1;32m     52\u001b[0m         \u001b[0mstate_tensor\u001b[0m \u001b[0;34m=\u001b[0m \u001b[0mtorch\u001b[0m\u001b[0;34m.\u001b[0m\u001b[0mfrom_numpy\u001b[0m\u001b[0;34m(\u001b[0m\u001b[0mpreprocessed\u001b[0m\u001b[0;34m)\u001b[0m\u001b[0;34m.\u001b[0m\u001b[0mtype\u001b[0m\u001b[0;34m(\u001b[0m\u001b[0mself\u001b[0m\u001b[0;34m.\u001b[0m\u001b[0m_state_tensor_type\u001b[0m\u001b[0;34m)\u001b[0m\u001b[0;34m\u001b[0m\u001b[0m\n\u001b[1;32m     53\u001b[0m \u001b[0;34m\u001b[0m\u001b[0m\n",
      "\u001b[0;32m/Users/Mayank/Google Drive/687 - RL/Project/code/modules/preprocess.pyc\u001b[0m in \u001b[0;36mprocess_images\u001b[0;34m(self, frames)\u001b[0m\n\u001b[1;32m     41\u001b[0m         \u001b[0mframes\u001b[0m \u001b[0;34m=\u001b[0m \u001b[0mself\u001b[0m\u001b[0;34m.\u001b[0m\u001b[0m__pixel_max\u001b[0m\u001b[0;34m(\u001b[0m\u001b[0mframes\u001b[0m\u001b[0;34m)\u001b[0m\u001b[0;34m\u001b[0m\u001b[0m\n\u001b[1;32m     42\u001b[0m         \u001b[0mframes\u001b[0m \u001b[0;34m=\u001b[0m \u001b[0mself\u001b[0m\u001b[0;34m.\u001b[0m\u001b[0m__extract_luminance\u001b[0m\u001b[0;34m(\u001b[0m\u001b[0mframes\u001b[0m\u001b[0;34m)\u001b[0m\u001b[0;34m\u001b[0m\u001b[0m\n\u001b[0;32m---> 43\u001b[0;31m         \u001b[0mframes\u001b[0m \u001b[0;34m=\u001b[0m \u001b[0mself\u001b[0m\u001b[0;34m.\u001b[0m\u001b[0m__scale_images\u001b[0m\u001b[0;34m(\u001b[0m\u001b[0mframes\u001b[0m\u001b[0;34m)\u001b[0m\u001b[0;34m\u001b[0m\u001b[0m\n\u001b[0m\u001b[1;32m     44\u001b[0m \u001b[0;34m\u001b[0m\u001b[0m\n\u001b[1;32m     45\u001b[0m         \u001b[0;32mreturn\u001b[0m \u001b[0mnp\u001b[0m\u001b[0;34m.\u001b[0m\u001b[0marray\u001b[0m\u001b[0;34m(\u001b[0m\u001b[0mframes\u001b[0m\u001b[0;34m)\u001b[0m\u001b[0;34m\u001b[0m\u001b[0m\n",
      "\u001b[0;32m/Users/Mayank/Google Drive/687 - RL/Project/code/modules/preprocess.pyc\u001b[0m in \u001b[0;36m__scale_images\u001b[0;34m(self, frames)\u001b[0m\n\u001b[1;32m     34\u001b[0m     \u001b[0;32mdef\u001b[0m \u001b[0m__scale_images\u001b[0m\u001b[0;34m(\u001b[0m\u001b[0mself\u001b[0m\u001b[0;34m,\u001b[0m \u001b[0mframes\u001b[0m\u001b[0;34m)\u001b[0m\u001b[0;34m:\u001b[0m\u001b[0;34m\u001b[0m\u001b[0m\n\u001b[1;32m     35\u001b[0m \u001b[0;34m\u001b[0m\u001b[0m\n\u001b[0;32m---> 36\u001b[0;31m         \u001b[0mresult\u001b[0m \u001b[0;34m=\u001b[0m \u001b[0mmap\u001b[0m\u001b[0;34m(\u001b[0m\u001b[0;32mlambda\u001b[0m \u001b[0mx\u001b[0m\u001b[0;34m:\u001b[0m \u001b[0mresize\u001b[0m\u001b[0;34m(\u001b[0m\u001b[0mx\u001b[0m\u001b[0;34m,\u001b[0m \u001b[0mself\u001b[0m\u001b[0;34m.\u001b[0m\u001b[0mrescale_size\u001b[0m\u001b[0;34m,\u001b[0m \u001b[0mmode\u001b[0m\u001b[0;34m=\u001b[0m\u001b[0;34m'symmetric'\u001b[0m\u001b[0;34m)\u001b[0m\u001b[0;34m,\u001b[0m \u001b[0mframes\u001b[0m\u001b[0;34m)\u001b[0m\u001b[0;34m\u001b[0m\u001b[0m\n\u001b[0m\u001b[1;32m     37\u001b[0m         \u001b[0;32mreturn\u001b[0m \u001b[0mresult\u001b[0m\u001b[0;34m\u001b[0m\u001b[0m\n\u001b[1;32m     38\u001b[0m \u001b[0;34m\u001b[0m\u001b[0m\n",
      "\u001b[0;32m/Users/Mayank/Google Drive/687 - RL/Project/code/modules/preprocess.pyc\u001b[0m in \u001b[0;36m<lambda>\u001b[0;34m(x)\u001b[0m\n\u001b[1;32m     34\u001b[0m     \u001b[0;32mdef\u001b[0m \u001b[0m__scale_images\u001b[0m\u001b[0;34m(\u001b[0m\u001b[0mself\u001b[0m\u001b[0;34m,\u001b[0m \u001b[0mframes\u001b[0m\u001b[0;34m)\u001b[0m\u001b[0;34m:\u001b[0m\u001b[0;34m\u001b[0m\u001b[0m\n\u001b[1;32m     35\u001b[0m \u001b[0;34m\u001b[0m\u001b[0m\n\u001b[0;32m---> 36\u001b[0;31m         \u001b[0mresult\u001b[0m \u001b[0;34m=\u001b[0m \u001b[0mmap\u001b[0m\u001b[0;34m(\u001b[0m\u001b[0;32mlambda\u001b[0m \u001b[0mx\u001b[0m\u001b[0;34m:\u001b[0m \u001b[0mresize\u001b[0m\u001b[0;34m(\u001b[0m\u001b[0mx\u001b[0m\u001b[0;34m,\u001b[0m \u001b[0mself\u001b[0m\u001b[0;34m.\u001b[0m\u001b[0mrescale_size\u001b[0m\u001b[0;34m,\u001b[0m \u001b[0mmode\u001b[0m\u001b[0;34m=\u001b[0m\u001b[0;34m'symmetric'\u001b[0m\u001b[0;34m)\u001b[0m\u001b[0;34m,\u001b[0m \u001b[0mframes\u001b[0m\u001b[0;34m)\u001b[0m\u001b[0;34m\u001b[0m\u001b[0m\n\u001b[0m\u001b[1;32m     37\u001b[0m         \u001b[0;32mreturn\u001b[0m \u001b[0mresult\u001b[0m\u001b[0;34m\u001b[0m\u001b[0m\n\u001b[1;32m     38\u001b[0m \u001b[0;34m\u001b[0m\u001b[0m\n",
      "\u001b[0;32m/Users/Mayank/anaconda2/envs/pytorch_src/lib/python2.7/site-packages/skimage/transform/_warps.pyc\u001b[0m in \u001b[0;36mresize\u001b[0;34m(image, output_shape, order, mode, cval, clip, preserve_range)\u001b[0m\n\u001b[1;32m    133\u001b[0m         out = warp(image, tform, output_shape=output_shape, order=order,\n\u001b[1;32m    134\u001b[0m                    \u001b[0mmode\u001b[0m\u001b[0;34m=\u001b[0m\u001b[0mmode\u001b[0m\u001b[0;34m,\u001b[0m \u001b[0mcval\u001b[0m\u001b[0;34m=\u001b[0m\u001b[0mcval\u001b[0m\u001b[0;34m,\u001b[0m \u001b[0mclip\u001b[0m\u001b[0;34m=\u001b[0m\u001b[0mclip\u001b[0m\u001b[0;34m,\u001b[0m\u001b[0;34m\u001b[0m\u001b[0m\n\u001b[0;32m--> 135\u001b[0;31m                    preserve_range=preserve_range)\n\u001b[0m\u001b[1;32m    136\u001b[0m \u001b[0;34m\u001b[0m\u001b[0m\n\u001b[1;32m    137\u001b[0m     \u001b[0;32mreturn\u001b[0m \u001b[0mout\u001b[0m\u001b[0;34m\u001b[0m\u001b[0m\n",
      "\u001b[0;32m/Users/Mayank/anaconda2/envs/pytorch_src/lib/python2.7/site-packages/skimage/transform/_warps.pyc\u001b[0m in \u001b[0;36mwarp\u001b[0;34m(image, inverse_map, map_args, output_shape, order, mode, cval, clip, preserve_range)\u001b[0m\n\u001b[1;32m    767\u001b[0m                 warped = _warp_fast(image, matrix,\n\u001b[1;32m    768\u001b[0m                                  \u001b[0moutput_shape\u001b[0m\u001b[0;34m=\u001b[0m\u001b[0moutput_shape\u001b[0m\u001b[0;34m,\u001b[0m\u001b[0;34m\u001b[0m\u001b[0m\n\u001b[0;32m--> 769\u001b[0;31m                                  order=order, mode=mode, cval=cval)\n\u001b[0m\u001b[1;32m    770\u001b[0m             \u001b[0;32melif\u001b[0m \u001b[0mimage\u001b[0m\u001b[0;34m.\u001b[0m\u001b[0mndim\u001b[0m \u001b[0;34m==\u001b[0m \u001b[0;36m3\u001b[0m\u001b[0;34m:\u001b[0m\u001b[0;34m\u001b[0m\u001b[0m\n\u001b[1;32m    771\u001b[0m                 \u001b[0mdims\u001b[0m \u001b[0;34m=\u001b[0m \u001b[0;34m[\u001b[0m\u001b[0;34m]\u001b[0m\u001b[0;34m\u001b[0m\u001b[0m\n",
      "\u001b[0;32mskimage/transform/_warps_cy.pyx\u001b[0m in \u001b[0;36mskimage.transform._warps_cy._warp_fast (skimage/transform/_warps_cy.c:2637)\u001b[0;34m()\u001b[0m\n",
      "\u001b[0;32m/Users/Mayank/anaconda2/envs/pytorch_src/lib/python2.7/site-packages/numpy/core/numeric.pyc\u001b[0m in \u001b[0;36masarray\u001b[0;34m(a, dtype, order)\u001b[0m\n\u001b[1;32m    461\u001b[0m \u001b[0;34m\u001b[0m\u001b[0m\n\u001b[1;32m    462\u001b[0m \u001b[0;34m\u001b[0m\u001b[0m\n\u001b[0;32m--> 463\u001b[0;31m \u001b[0;32mdef\u001b[0m \u001b[0masarray\u001b[0m\u001b[0;34m(\u001b[0m\u001b[0ma\u001b[0m\u001b[0;34m,\u001b[0m \u001b[0mdtype\u001b[0m\u001b[0;34m=\u001b[0m\u001b[0mNone\u001b[0m\u001b[0;34m,\u001b[0m \u001b[0morder\u001b[0m\u001b[0;34m=\u001b[0m\u001b[0mNone\u001b[0m\u001b[0;34m)\u001b[0m\u001b[0;34m:\u001b[0m\u001b[0;34m\u001b[0m\u001b[0m\n\u001b[0m\u001b[1;32m    464\u001b[0m     \"\"\"Convert the input to an array.\n\u001b[1;32m    465\u001b[0m \u001b[0;34m\u001b[0m\u001b[0m\n",
      "\u001b[0;31mKeyboardInterrupt\u001b[0m: "
     ]
    }
   ],
   "source": [
    "models = get_model_list()\n",
    "rewards = []\n",
    "iterations = []\n",
    "\n",
    "for i, (iteration, model_filepath) in enumerate(models):\n",
    "    load_model(model_filepath)\n",
    "    play_rewards = []\n",
    "    \n",
    "    for play in xrange(PER_MODEL_PLAYS):\n",
    "    \n",
    "        if play==0:\n",
    "            save_movie = True\n",
    "            movie_name = str(iteration)\n",
    "        else:\n",
    "            save_movie = False\n",
    "            movie_name = None\n",
    "            \n",
    "        game_reward = play_game(save_movie, movie_name)\n",
    "        play_rewards.append(game_reward)\n",
    "        print \"Iteration: %d, Play: %d, Reward: %f\" % (iteration, play, game_reward)\n",
    "    \n",
    "    rewards.append(play_rewards)\n",
    "    iterations.append(iteration)\n",
    "    \n",
    "    np.save(os.path.join(RESULTS_FOLDER, 'rewards'), np.array(rewards))\n",
    "    np.save(os.path.join(RESULTS_FOLDER, 'iterations'), np.array(iterations))"
   ]
  },
  {
   "cell_type": "code",
   "execution_count": null,
   "metadata": {},
   "outputs": [],
   "source": []
  }
 ],
 "metadata": {
  "kernelspec": {
   "display_name": "Python [pytorch_src]",
   "language": "python",
   "name": "Python [pytorch_src]"
  },
  "language_info": {
   "codemirror_mode": {
    "name": "ipython",
    "version": 2
   },
   "file_extension": ".py",
   "mimetype": "text/x-python",
   "name": "python",
   "nbconvert_exporter": "python",
   "pygments_lexer": "ipython2",
   "version": "2.7.14"
  }
 },
 "nbformat": 4,
 "nbformat_minor": 1
}
